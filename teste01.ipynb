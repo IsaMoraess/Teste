{
 "cells": [
  {
   "cell_type": "code",
   "execution_count": 1,
   "id": "38f79e39",
   "metadata": {},
   "outputs": [
    {
     "data": {
      "text/plain": [
       "4"
      ]
     },
     "execution_count": 1,
     "metadata": {},
     "output_type": "execute_result"
    }
   ],
   "source": [
    "2+2\n"
   ]
  },
  {
   "cell_type": "code",
   "execution_count": 2,
   "id": "17e068c6",
   "metadata": {},
   "outputs": [
    {
     "name": "stdout",
     "output_type": "stream",
     "text": [
      "Ola Mundo!\n"
     ]
    }
   ],
   "source": [
    "print('Ola Mundo!')"
   ]
  },
  {
   "cell_type": "markdown",
   "id": "c71d5e04",
   "metadata": {},
   "source": [
    "gera codigo python que cria uma lista com os numeros entre 0 e 100 entao imprima os numeros pares, mas somente se o numero for divisivel por 4"
   ]
  },
  {
   "cell_type": "code",
   "execution_count": 1,
   "id": "3183fe82",
   "metadata": {},
   "outputs": [
    {
     "name": "stdout",
     "output_type": "stream",
     "text": [
      "0\n",
      "4\n",
      "8\n",
      "12\n",
      "16\n",
      "20\n",
      "24\n",
      "28\n",
      "32\n",
      "36\n",
      "40\n",
      "44\n",
      "48\n",
      "52\n",
      "56\n",
      "60\n",
      "64\n",
      "68\n",
      "72\n",
      "76\n",
      "80\n",
      "84\n",
      "88\n",
      "92\n",
      "96\n",
      "100\n"
     ]
    }
   ],
   "source": [
    "# Criando uma lista com os números de 0 a 100\n",
    "numeros = list(range(101))\n",
    "\n",
    "# Percorrendo a lista e imprimindo os números pares divisíveis por 4\n",
    "for numero in numeros:\n",
    "    if numero % 2 == 0 and numero % 4 == 0:\n",
    "        print(numero)\n"
   ]
  },
  {
   "cell_type": "markdown",
   "id": "527eb24a",
   "metadata": {},
   "source": [
    "gera codigo python que cria uma lista com os numeros entre 0 e 100 entao imprima os numeros pares, mas somente se o numero for divisivel por 4, using list compreensão"
   ]
  },
  {
   "cell_type": "code",
   "execution_count": 2,
   "id": "271ed447",
   "metadata": {},
   "outputs": [
    {
     "name": "stdout",
     "output_type": "stream",
     "text": [
      "[0, 4, 8, 12, 16, 20, 24, 28, 32, 36, 40, 44, 48, 52, 56, 60, 64, 68, 72, 76, 80, 84, 88, 92, 96, 100]\n"
     ]
    }
   ],
   "source": [
    "# Criando uma lista com os números de 0 a 100 e imprimindo os números pares divisíveis por 4\n",
    "numeros_pares_divisiveis_por_4 = [num for num in range(101) if num % 2 == 0 and num % 4 == 0]\n",
    "print(numeros_pares_divisiveis_por_4)\n"
   ]
  },
  {
   "cell_type": "markdown",
   "id": "80aec2c1",
   "metadata": {},
   "source": [
    "#fim"
   ]
  },
  {
   "cell_type": "code",
   "execution_count": null,
   "id": "667b7d09",
   "metadata": {},
   "outputs": [],
   "source": []
  }
 ],
 "metadata": {
  "kernelspec": {
   "display_name": "Python 3 (ipykernel)",
   "language": "python",
   "name": "python3"
  },
  "language_info": {
   "codemirror_mode": {
    "name": "ipython",
    "version": 3
   },
   "file_extension": ".py",
   "mimetype": "text/x-python",
   "name": "python",
   "nbconvert_exporter": "python",
   "pygments_lexer": "ipython3",
   "version": "3.9.13"
  }
 },
 "nbformat": 4,
 "nbformat_minor": 5
}
